{
 "cells": [
  {
   "cell_type": "code",
   "execution_count": 9,
   "id": "8c2360b4-97c6-4f18-b1d3-5f426054583f",
   "metadata": {},
   "outputs": [
    {
     "name": "stdout",
     "output_type": "stream",
     "text": [
      "✅ 已保存含真实显著性及中微子概率的新文件：summary_with_real_significance_and_prob.csv\n"
     ]
    }
   ],
   "source": [
    "import pandas as pd\n",
    "import numpy as np\n",
    "\n",
    "# === 路径设置 ===\n",
    "summary_path = \"summary.csv\"\n",
    "prob_path = \"neutrino_probabilities_full.csv\"\n",
    "output_path = \"summary_with_real_significance_and_prob.csv\"  # 修改输出文件名以区分\n",
    "\n",
    "# === 读取数据 ===\n",
    "df_summary = pd.read_csv(summary_path)\n",
    "df_prob = pd.read_csv(prob_path)\n",
    "\n",
    "# === 添加新列 ===\n",
    "real_sig_min_list = []\n",
    "real_sig_max_list = []\n",
    "prob_low_list = []  # 存储 Probability (Low)\n",
    "prob_high_list = []  # 存储 Probability (High)\n",
    "\n",
    "for idx, row in df_summary.iterrows():\n",
    "    erange = row[\"energy_range\"].replace(\"_\", \"-\")  # 将下划线替换为连字符\n",
    "    try:\n",
    "        # 查找中微子反应概率\n",
    "        prob_row = df_prob[df_prob[\"EnergyAngle\"] == erange]\n",
    "        if prob_row.empty:\n",
    "            print(f\"[WARN] 未找到能段 {erange} 的中微子概率数据，填充 NaN\")\n",
    "            real_sig_min_list.append(np.nan)\n",
    "            real_sig_max_list.append(np.nan)\n",
    "            prob_low_list.append(np.nan)\n",
    "            prob_high_list.append(np.nan)\n",
    "            continue\n",
    "\n",
    "        prob_low = prob_row[\"Probability (Low)\"].values[0]\n",
    "        prob_high = prob_row[\"Probability (High)\"].values[0]\n",
    "\n",
    "        # 获取其他必要参数\n",
    "        tpr = row.get(\"Q_max_TPR\", np.nan)\n",
    "        fpr = row.get(\"Q_max_FPR\", np.nan)\n",
    "        n_nu = row.get(\"N_nu\", np.nan)\n",
    "        n_p = row.get(\"N_p\", np.nan)\n",
    "\n",
    "        if np.isnan(tpr) or np.isnan(fpr) or np.isnan(n_nu) or np.isnan(n_p):\n",
    "            real_sig_min_list.append(np.nan)\n",
    "            real_sig_max_list.append(np.nan)\n",
    "            prob_low_list.append(np.nan)\n",
    "            prob_high_list.append(np.nan)\n",
    "            continue\n",
    "\n",
    "        # 计算显著性上下限\n",
    "        sig_min = n_nu * prob_low * tpr / np.sqrt(n_p * fpr + 1e-8)\n",
    "        sig_max = n_nu * prob_high * tpr / np.sqrt(n_p * fpr + 1e-8)\n",
    "\n",
    "        real_sig_min_list.append(sig_min)\n",
    "        real_sig_max_list.append(sig_max)\n",
    "        prob_low_list.append(prob_low)\n",
    "        prob_high_list.append(prob_high)\n",
    "    except Exception as e:\n",
    "        print(f\"[ERROR] 在处理 {erange} 时出错：{e}\")\n",
    "        real_sig_min_list.append(np.nan)\n",
    "        real_sig_max_list.append(np.nan)\n",
    "        prob_low_list.append(np.nan)\n",
    "        prob_high_list.append(np.nan)\n",
    "\n",
    "# === 添加到 summary 表中并保存 ===\n",
    "df_summary[\"Significance_real_min\"] = real_sig_min_list\n",
    "df_summary[\"Significance_real_max\"] = real_sig_max_list\n",
    "df_summary[\"Neutrino_Probability_Low\"] = prob_low_list  # 新增列：低能段概率\n",
    "df_summary[\"Neutrino_Probability_High\"] = prob_high_list  # 新增列：高能段概率\n",
    "\n",
    "df_summary.to_csv(output_path, index=False)\n",
    "print(f\"✅ 已保存含真实显著性及中微子概率的新文件：{output_path}\")\n",
    "\n"
   ]
  },
  {
   "cell_type": "code",
   "execution_count": null,
   "id": "d34c1d62-e93a-41e7-aa64-34b8ae8cda73",
   "metadata": {},
   "outputs": [],
   "source": []
  }
 ],
 "metadata": {
  "kernelspec": {
   "display_name": "Python 3 (ipykernel)",
   "language": "python",
   "name": "python3"
  },
  "language_info": {
   "codemirror_mode": {
    "name": "ipython",
    "version": 3
   },
   "file_extension": ".py",
   "mimetype": "text/x-python",
   "name": "python",
   "nbconvert_exporter": "python",
   "pygments_lexer": "ipython3",
   "version": "3.12.11"
  }
 },
 "nbformat": 4,
 "nbformat_minor": 5
}
