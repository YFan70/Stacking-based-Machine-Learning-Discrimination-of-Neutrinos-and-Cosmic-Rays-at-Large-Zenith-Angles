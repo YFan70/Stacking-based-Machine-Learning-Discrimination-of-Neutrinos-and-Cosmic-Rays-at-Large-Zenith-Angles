{
 "cells": [
  {
   "cell_type": "code",
   "execution_count": null,
   "id": "25f1a737-a05e-44c6-a0df-54c7995c3b82",
   "metadata": {},
   "outputs": [],
   "source": [
    "import matplotlib.pyplot as plt\n",
    "import matplotlib.image as mpimg\n",
    "import os\n",
    "\n",
    "# ===== 图像文件路径（已转换为 PNG）=====\n",
    "img_paths = [\n",
    "    \"./feature_plots/1e6-1e7-70_s_e.png\",\n",
    "    \"./feature_plots/1e6-1e7-70_s_m.png\",\n",
    "    \"./feature_plots/1e6-1e7-70_log10_NeNm_0_600.png\",\n",
    "    \"./feature_plots/1e6-1e7-70_e_mean_0_600.png\"\n",
    "]\n",
    "\n",
    "# ===== 设置输出尺寸与分辨率 =====\n",
    "fig, axs = plt.subplots(2, 2, figsize=(12, 10), dpi=600)\n",
    "\n",
    "labels = ['(a)', '(b)', '(c)', '(d)']  # 子图标识\n",
    "\n",
    "for i, ax in enumerate(axs.flat):\n",
    "    if os.path.exists(img_paths[i]):\n",
    "        img = mpimg.imread(img_paths[i])\n",
    "        ax.imshow(img)\n",
    "        ax.axis('off')\n",
    "        # 添加左上角标签\n",
    "        ax.text(-0.02, 0.95, labels[i], transform=ax.transAxes,\n",
    "                fontsize=18, fontweight='bold', va='top', ha='left', color='black')\n",
    "    else:\n",
    "        print(f\"❌ 未找到文件：{img_paths[i]}\")\n",
    "        ax.set_visible(False)\n",
    "\n",
    "plt.tight_layout()\n",
    "plt.savefig(\"combined_figure.png\", dpi=600, bbox_inches='tight')\n",
    "plt.savefig(\"combined_figure.pdf\", dpi=600, bbox_inches='tight')\n",
    "plt.savefig(\"combined_figure.eps\", dpi=600, bbox_inches='tight', format='eps')\n",
    "print(\"✅ 成功保存为 combined_figure.png 和 combined_figure.pdf   combined_figure.eps\")"
   ]
  }
 ],
 "metadata": {
  "kernelspec": {
   "display_name": "Python 3 (ipykernel)",
   "language": "python",
   "name": "python3"
  },
  "language_info": {
   "codemirror_mode": {
    "name": "ipython",
    "version": 3
   },
   "file_extension": ".py",
   "mimetype": "text/x-python",
   "name": "python",
   "nbconvert_exporter": "python",
   "pygments_lexer": "ipython3",
   "version": "3.12.11"
  }
 },
 "nbformat": 4,
 "nbformat_minor": 5
}
